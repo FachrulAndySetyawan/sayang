{
  "nbformat": 4,
  "nbformat_minor": 0,
  "metadata": {
    "colab": {
      "name": "Monyet.ipynb",
      "provenance": [],
      "collapsed_sections": [],
      "authorship_tag": "ABX9TyM73j1qek6WeTB6nrE01Ztg",
      "include_colab_link": true
    },
    "kernelspec": {
      "name": "python3",
      "display_name": "Python 3"
    },
    "language_info": {
      "name": "python"
    }
  },
  "cells": [
    {
      "cell_type": "markdown",
      "metadata": {
        "id": "view-in-github",
        "colab_type": "text"
      },
      "source": [
        "<a href=\"https://colab.research.google.com/github/FachrulAndySetyawan/sayang/blob/main/Monyet.ipynb\" target=\"_parent\"><img src=\"https://colab.research.google.com/assets/colab-badge.svg\" alt=\"Open In Colab\"/></a>"
      ]
    },
    {
      "cell_type": "code",
      "execution_count": null,
      "metadata": {
        "colab": {
          "base_uri": "https://localhost:8080/"
        },
        "id": "QBRe0dXCphwu",
        "outputId": "296fb00f-918d-4fe4-fa72-cd8fd89638f8"
      },
      "outputs": [
        {
          "output_type": "stream",
          "name": "stdout",
          "text": [
            "True\n",
            "Ayo belajar Python\n",
            "Belajar Python Sangat Mudah\n",
            "20\n",
            "3.14\n",
            "5j\n",
            "[1, 2, 3, 4, 5]\n",
            "['satu', 'dua', 'tiga']\n",
            "(1, 2, 3, 4, 5)\n",
            "('satu', 'dua', 'tiga')\n",
            "{'nama': 'Budi', 'umur': 20}\n",
            "{'nama': 'Andi', 'umur': 21}\n",
            "<class 'dict'>\n"
          ]
        }
      ],
      "source": [
        "#tipe data Boolean\n",
        "print(True)\n",
        "\n",
        "#tipe data String\n",
        "print(\"Ayo belajar Python\")\n",
        "print('Belajar Python Sangat Mudah')\n",
        "\n",
        "#tipe data Integer\n",
        "print(20)\n",
        "\n",
        "#tipe data Float\n",
        "print(3.14)\n",
        "\n",
        "#tipe data Complex\n",
        "print(5j)\n",
        "\n",
        "#tipe data List\n",
        "print([1,2,3,4,5])\n",
        "print([\"satu\", \"dua\", \"tiga\"])\n",
        "\n",
        "#tipe data Tuple\n",
        "print((1,2,3,4,5))\n",
        "print((\"satu\", \"dua\", \"tiga\"))\n",
        "\n",
        "#tipe data Dictionary\n",
        "print({\"nama\":\"Budi\", 'umur':20})\n",
        "#tipe data Dictionary dimasukan ke dalam variabel biodata\n",
        "biodata = {\"nama\":\"Andi\", 'umur':21} #proses inisialisasi variabel biodata\n",
        "print(biodata) #proses pencetakan variabel biodata yang berisi tipe data Dictionary\n",
        "print(type(biodata)) #fungsi untuk mengecek jenis tipe data. akan tampil <class 'dict'> yang berarti dict adalah tipe data dictionary"
      ]
    },
    {
      "cell_type": "code",
      "source": [
        "A = 2.5\n",
        "B = 4.25\n",
        "\n",
        "print(\"Hasil : \", A+B)"
      ],
      "metadata": {
        "colab": {
          "base_uri": "https://localhost:8080/"
        },
        "id": "MQwz9HHkrMCc",
        "outputId": "19b8bedb-e3ba-4ecb-8aeb-fcf258bacf3b"
      },
      "execution_count": null,
      "outputs": [
        {
          "output_type": "stream",
          "name": "stdout",
          "text": [
            "Hasil :  6.75\n"
          ]
        }
      ]
    },
    {
      "cell_type": "code",
      "source": [
        "C = \"Saya\"\n",
        "D = \" Fachrul\"\n",
        "\n",
        "print(\"Hasil : \", C+D)"
      ],
      "metadata": {
        "colab": {
          "base_uri": "https://localhost:8080/"
        },
        "id": "o7yJiTN-rb_i",
        "outputId": "40b455ff-eff0-447f-ba50-a2fee897bd8a"
      },
      "execution_count": null,
      "outputs": [
        {
          "output_type": "stream",
          "name": "stdout",
          "text": [
            "Hasil :  Saya Fachrul\n"
          ]
        }
      ]
    },
    {
      "cell_type": "code",
      "source": [
        "angka = [1, 2, 3, 4, 5]\n",
        "\n",
        "for x in angka:\n",
        "  print(\"Ke - \", x)"
      ],
      "metadata": {
        "colab": {
          "base_uri": "https://localhost:8080/"
        },
        "id": "IG97UubhrziO",
        "outputId": "a6b9eb43-eed8-4fe1-b5da-f5329404f510"
      },
      "execution_count": null,
      "outputs": [
        {
          "output_type": "stream",
          "name": "stdout",
          "text": [
            "Ke -  1\n",
            "Ke -  2\n",
            "Ke -  3\n",
            "Ke -  4\n",
            "Ke -  5\n"
          ]
        }
      ]
    },
    {
      "cell_type": "code",
      "source": [
        "#Kondisi if adalah kondisi yang akan dieksekusi oleh program jika bernilai benar atau TRUE\n",
        "\n",
        "nilai = 9\n",
        "\n",
        "#jika kondisi benar/TRUE maka program akan mengeksekusi perintah dibawahnya\n",
        "if(nilai > 7):\n",
        "    print(\"Sembilan Lebih Besar Dari Angka Tujuh\") # Kondisi Benar, Dieksekusi\n",
        "\n",
        "#jika kondisi salah/FALSE maka program tidak akan mengeksekusi perintah dibawahnya\n",
        "if(nilai > 10):\n",
        "    print(\"Sembilan Lebih Besar Dari Angka Sepuluh\") # Kondisi Salah, Maka tidak tereksekusi"
      ],
      "metadata": {
        "colab": {
          "base_uri": "https://localhost:8080/"
        },
        "id": "bS-YgorpscMK",
        "outputId": "8a0d4045-fc2e-4550-a452-a8f534ebf783"
      },
      "execution_count": null,
      "outputs": [
        {
          "output_type": "stream",
          "name": "stdout",
          "text": [
            "Sembilan Lebih Besar Dari Angka Tujuh\n"
          ]
        }
      ]
    },
    {
      "cell_type": "code",
      "source": [
        "bill = int(input(\"Masukkan angka : \"))\n",
        "\n",
        "if bill % 2 == 0:\n",
        "  print(\"Bilangan Ganjil \")\n",
        "\n",
        "else:\n",
        "  print(\"Bilangan Ganjil \")"
      ],
      "metadata": {
        "colab": {
          "base_uri": "https://localhost:8080/"
        },
        "id": "N1sm0GO5sgfH",
        "outputId": "e6287910-590f-4785-8de0-e0c0db8f0914"
      },
      "execution_count": null,
      "outputs": [
        {
          "output_type": "stream",
          "name": "stdout",
          "text": [
            "Masukkan angka : 4\n",
            "Bilangan Ganjil \n"
          ]
        }
      ]
    },
    {
      "cell_type": "code",
      "source": [
        "#Contoh penggunaan kondisi elif\n",
        "\n",
        "hari_ini = input(\"Hari ini \" )\n",
        "\n",
        "if(hari_ini == \"Senin\"):\n",
        "    print(\"Saya akan kuliah\")\n",
        "elif(hari_ini == \"Selasa\"):\n",
        "    print(\"Saya akan kuliah\")\n",
        "elif(hari_ini == \"Rabu\"):\n",
        "    print(\"Saya akan kuliah\")\n",
        "elif(hari_ini == \"Kamis\"):\n",
        "    print(\"Saya akan kuliah\")\n",
        "elif(hari_ini == \"Jumat\"):\n",
        "    print(\"Saya akan kuliah\")\n",
        "elif(hari_ini == \"Sabtu\"):\n",
        "    print(\"Saya akan kuliah\")\n",
        "elif(hari_ini == \"Minggu\"):\n",
        "    print(\"Saya akan libur\")"
      ],
      "metadata": {
        "colab": {
          "base_uri": "https://localhost:8080/"
        },
        "id": "2keiaedKuSmu",
        "outputId": "c80cf03b-8e26-4024-96ca-ae21bea84c2b"
      },
      "execution_count": null,
      "outputs": [
        {
          "output_type": "stream",
          "name": "stdout",
          "text": [
            "Hari ini Senin\n",
            "Saya akan kuliah\n"
          ]
        }
      ]
    },
    {
      "cell_type": "code",
      "source": [
        "# mendefinisikan fungsi menggunakan 'def'\n",
        "def ini_fungsi(siapaNamanya):\n",
        "  print(siapaNamanya + \" belajar Bahasa Ular\")\n",
        "\n",
        "\n",
        "# memanggil fungsi\n",
        "ini_fungsi('Harry Potter')\n",
        "\n",
        "# memanggil kembali fungsi dengan nilai parameter berbeda\n",
        "ini_fungsi('Voldemort')\n",
        "\n",
        "# lagi\n",
        "ini_fungsi('Semua orang')"
      ],
      "metadata": {
        "colab": {
          "base_uri": "https://localhost:8080/"
        },
        "id": "pTNqNoynyUIB",
        "outputId": "3d48034e-0ebf-40a4-e3b6-660a5b47634c"
      },
      "execution_count": null,
      "outputs": [
        {
          "output_type": "stream",
          "name": "stdout",
          "text": [
            "Harry Potter belajar Bahasa Ular\n",
            "Voldemort belajar Bahasa Ular\n",
            "Semua orang belajar Bahasa Ular\n"
          ]
        }
      ]
    },
    {
      "cell_type": "code",
      "source": [
        "def pacar_saya(siapaYa):\n",
        "  print(siapaYa + \" Pacar saya\")\n",
        "\n",
        "pacar_saya('Lupa gak punya')\n",
        "\n",
        "pacar_saya('Kaga punya')"
      ],
      "metadata": {
        "colab": {
          "base_uri": "https://localhost:8080/"
        },
        "id": "7kY3b0UUyhkY",
        "outputId": "450b39fb-8d3c-4505-9d35-28bb959585a8"
      },
      "execution_count": null,
      "outputs": [
        {
          "output_type": "stream",
          "name": "stdout",
          "text": [
            "Lupa gak punya Pacar saya\n",
            "Kaga punya Pacar saya\n"
          ]
        }
      ]
    }
  ]
}